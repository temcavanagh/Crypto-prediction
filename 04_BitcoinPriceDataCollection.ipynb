{
    "cells": [
        {
            "cell_type": "markdown",
            "metadata": {},
            "source": [
                "# Bitcoin price collection"
            ]
        },
        {
            "cell_type": "code",
            "execution_count": 3,
            "metadata": {},
            "outputs": [],
            "source": [
                "import numpy as np\n",
                "import pandas as pd\n",
                "import yfinance as yf \n",
                "import plotly.graph_objs as plot\n",
                "import datetime\n",
                "import time\n",
                "import os\n",
                "\n",
                "PRICE_FOLDER    = \"data/price/\"\n",
                "TWITTER_FOLDER  = \"data/twitter/\"\n",
                "tweets_raw_file = './data/twitter/bitcoin_tweets_raw.csv'\n",
                "tweets_clean_file = './data/twitter/bitcoin_tweets_clean.csv'\n",
                "price_raw_file = './data/price/bitcoin_price_raw.csv'\n",
                "price_clean_file = './data/price/bitcoin_price_clean.csv'\n"
            ]
        },
        {
            "cell_type": "markdown",
            "metadata": {},
            "source": [
                "Retrieve Bitcoin hourly price from Yahoo Finance\n",
                "\n",
                "- Base price data is the first retrieval to a dataframe\n",
                "- Updated data retrieves new hourly data to the same dataframe\n",
                "- Data is exported to .csv after each updated retrieval"
            ]
        },
        {
            "cell_type": "code",
            "execution_count": 8,
            "metadata": {},
            "outputs": [],
            "source": [
                "df_price_raw = pd.read_csv(price_raw_file,low_memory=False)\n",
                "\n",
                "df_price_clean = pd.read_csv(price_clean_file,low_memory=False)"
            ]
        },
        {
            "cell_type": "markdown",
            "metadata": {},
            "source": [
                "## Base price data"
            ]
        },
        {
            "cell_type": "code",
            "execution_count": 11,
            "metadata": {},
            "outputs": [
                {
                    "name": "stdout",
                    "output_type": "stream",
                    "text": [
                        "[*********************100%***********************]  1 of 1 completed\n"
                    ]
                },
                {
                    "data": {
                        "text/html": [
                            "<div>\n",
                            "<style scoped>\n",
                            "    .dataframe tbody tr th:only-of-type {\n",
                            "        vertical-align: middle;\n",
                            "    }\n",
                            "\n",
                            "    .dataframe tbody tr th {\n",
                            "        vertical-align: top;\n",
                            "    }\n",
                            "\n",
                            "    .dataframe thead th {\n",
                            "        text-align: right;\n",
                            "    }\n",
                            "</style>\n",
                            "<table border=\"1\" class=\"dataframe\">\n",
                            "  <thead>\n",
                            "    <tr style=\"text-align: right;\">\n",
                            "      <th></th>\n",
                            "      <th>Open</th>\n",
                            "      <th>High</th>\n",
                            "      <th>Low</th>\n",
                            "      <th>Close</th>\n",
                            "      <th>Adj Close</th>\n",
                            "      <th>Volume</th>\n",
                            "    </tr>\n",
                            "    <tr>\n",
                            "      <th>Time</th>\n",
                            "      <th></th>\n",
                            "      <th></th>\n",
                            "      <th></th>\n",
                            "      <th></th>\n",
                            "      <th></th>\n",
                            "      <th></th>\n",
                            "    </tr>\n",
                            "  </thead>\n",
                            "  <tbody>\n",
                            "    <tr>\n",
                            "      <th>2021-09-13 02:00:00+01:00</th>\n",
                            "      <td>46042.578125</td>\n",
                            "      <td>46072.230469</td>\n",
                            "      <td>45174.433594</td>\n",
                            "      <td>45178.304688</td>\n",
                            "      <td>45178.304688</td>\n",
                            "      <td>0</td>\n",
                            "    </tr>\n",
                            "    <tr>\n",
                            "      <th>2021-09-13 03:00:00+01:00</th>\n",
                            "      <td>45204.027344</td>\n",
                            "      <td>45246.617188</td>\n",
                            "      <td>44918.695312</td>\n",
                            "      <td>44918.695312</td>\n",
                            "      <td>44918.695312</td>\n",
                            "      <td>469590016</td>\n",
                            "    </tr>\n",
                            "    <tr>\n",
                            "      <th>2021-09-13 04:00:00+01:00</th>\n",
                            "      <td>44962.632812</td>\n",
                            "      <td>45116.093750</td>\n",
                            "      <td>44863.550781</td>\n",
                            "      <td>44863.550781</td>\n",
                            "      <td>44863.550781</td>\n",
                            "      <td>0</td>\n",
                            "    </tr>\n",
                            "    <tr>\n",
                            "      <th>2021-09-13 05:00:00+01:00</th>\n",
                            "      <td>44660.148438</td>\n",
                            "      <td>44768.093750</td>\n",
                            "      <td>44589.972656</td>\n",
                            "      <td>44692.058594</td>\n",
                            "      <td>44692.058594</td>\n",
                            "      <td>186744832</td>\n",
                            "    </tr>\n",
                            "    <tr>\n",
                            "      <th>2021-09-13 06:00:00+01:00</th>\n",
                            "      <td>44717.527344</td>\n",
                            "      <td>44959.621094</td>\n",
                            "      <td>44458.875000</td>\n",
                            "      <td>44720.082031</td>\n",
                            "      <td>44720.082031</td>\n",
                            "      <td>1137813504</td>\n",
                            "    </tr>\n",
                            "  </tbody>\n",
                            "</table>\n",
                            "</div>"
                        ],
                        "text/plain": [
                            "                                   Open          High           Low  \\\n",
                            "Time                                                                  \n",
                            "2021-09-13 02:00:00+01:00  46042.578125  46072.230469  45174.433594   \n",
                            "2021-09-13 03:00:00+01:00  45204.027344  45246.617188  44918.695312   \n",
                            "2021-09-13 04:00:00+01:00  44962.632812  45116.093750  44863.550781   \n",
                            "2021-09-13 05:00:00+01:00  44660.148438  44768.093750  44589.972656   \n",
                            "2021-09-13 06:00:00+01:00  44717.527344  44959.621094  44458.875000   \n",
                            "\n",
                            "                                  Close     Adj Close      Volume  \n",
                            "Time                                                               \n",
                            "2021-09-13 02:00:00+01:00  45178.304688  45178.304688           0  \n",
                            "2021-09-13 03:00:00+01:00  44918.695312  44918.695312   469590016  \n",
                            "2021-09-13 04:00:00+01:00  44863.550781  44863.550781           0  \n",
                            "2021-09-13 05:00:00+01:00  44692.058594  44692.058594   186744832  \n",
                            "2021-09-13 06:00:00+01:00  44720.082031  44720.082031  1137813504  "
                        ]
                    },
                    "execution_count": 11,
                    "metadata": {},
                    "output_type": "execute_result"
                }
            ],
            "source": [
                "# Retrieve hourly price data\n",
                "price_data = yf.download(tickers='BTC-USD', period='24h', interval='1h')\n",
                "# Rename df index\n",
                "price_data.index.name = 'Time'\n",
                "# Head data\n",
                "price_data.head(5)"
            ]
        },
        {
            "cell_type": "code",
            "execution_count": 15,
            "metadata": {},
            "outputs": [],
            "source": [
                "# Drop last row of df\n",
                "price_data = price_data[:-1]"
            ]
        },
        {
            "cell_type": "markdown",
            "metadata": {},
            "source": [
                "## To .csv"
            ]
        },
        {
            "cell_type": "code",
            "execution_count": null,
            "metadata": {},
            "outputs": [],
            "source": [
                "# price_data to .csv\n",
                "# Import same .csv to update"
            ]
        },
        {
            "cell_type": "markdown",
            "metadata": {},
            "source": [
                "## Updated data"
            ]
        },
        {
            "cell_type": "code",
            "execution_count": 4,
            "metadata": {},
            "outputs": [
                {
                    "name": "stdout",
                    "output_type": "stream",
                    "text": [
                        "[*********************100%***********************]  1 of 1 completed\n"
                    ]
                },
                {
                    "data": {
                        "text/html": [
                            "<div>\n",
                            "<style scoped>\n",
                            "    .dataframe tbody tr th:only-of-type {\n",
                            "        vertical-align: middle;\n",
                            "    }\n",
                            "\n",
                            "    .dataframe tbody tr th {\n",
                            "        vertical-align: top;\n",
                            "    }\n",
                            "\n",
                            "    .dataframe thead th {\n",
                            "        text-align: right;\n",
                            "    }\n",
                            "</style>\n",
                            "<table border=\"1\" class=\"dataframe\">\n",
                            "  <thead>\n",
                            "    <tr style=\"text-align: right;\">\n",
                            "      <th></th>\n",
                            "      <th>Open</th>\n",
                            "      <th>High</th>\n",
                            "      <th>Low</th>\n",
                            "      <th>Close</th>\n",
                            "      <th>Adj Close</th>\n",
                            "      <th>Volume</th>\n",
                            "    </tr>\n",
                            "    <tr>\n",
                            "      <th>Time</th>\n",
                            "      <th></th>\n",
                            "      <th></th>\n",
                            "      <th></th>\n",
                            "      <th></th>\n",
                            "      <th></th>\n",
                            "      <th></th>\n",
                            "    </tr>\n",
                            "  </thead>\n",
                            "  <tbody>\n",
                            "    <tr>\n",
                            "      <th>2021-09-12 23:00:00+01:00</th>\n",
                            "      <td>45300.644531</td>\n",
                            "      <td>45699.824219</td>\n",
                            "      <td>45300.644531</td>\n",
                            "      <td>45678.808594</td>\n",
                            "      <td>45678.808594</td>\n",
                            "      <td>0</td>\n",
                            "    </tr>\n",
                            "    <tr>\n",
                            "      <th>2021-09-13 00:00:00+01:00</th>\n",
                            "      <td>45764.859375</td>\n",
                            "      <td>46364.878906</td>\n",
                            "      <td>45764.859375</td>\n",
                            "      <td>46063.269531</td>\n",
                            "      <td>46063.269531</td>\n",
                            "      <td>142313472</td>\n",
                            "    </tr>\n",
                            "    <tr>\n",
                            "      <th>2021-09-13 01:00:00+01:00</th>\n",
                            "      <td>46057.214844</td>\n",
                            "      <td>46237.136719</td>\n",
                            "      <td>45951.882812</td>\n",
                            "      <td>46058.765625</td>\n",
                            "      <td>46058.765625</td>\n",
                            "      <td>0</td>\n",
                            "    </tr>\n",
                            "    <tr>\n",
                            "      <th>2021-09-13 02:00:00+01:00</th>\n",
                            "      <td>46042.578125</td>\n",
                            "      <td>46072.230469</td>\n",
                            "      <td>45174.433594</td>\n",
                            "      <td>45178.304688</td>\n",
                            "      <td>45178.304688</td>\n",
                            "      <td>1229885440</td>\n",
                            "    </tr>\n",
                            "    <tr>\n",
                            "      <th>2021-09-13 03:00:00+01:00</th>\n",
                            "      <td>45204.027344</td>\n",
                            "      <td>45246.617188</td>\n",
                            "      <td>44918.695312</td>\n",
                            "      <td>44918.695312</td>\n",
                            "      <td>44918.695312</td>\n",
                            "      <td>469590016</td>\n",
                            "    </tr>\n",
                            "  </tbody>\n",
                            "</table>\n",
                            "</div>"
                        ],
                        "text/plain": [
                            "                                   Open          High           Low  \\\n",
                            "Time                                                                  \n",
                            "2021-09-12 23:00:00+01:00  45300.644531  45699.824219  45300.644531   \n",
                            "2021-09-13 00:00:00+01:00  45764.859375  46364.878906  45764.859375   \n",
                            "2021-09-13 01:00:00+01:00  46057.214844  46237.136719  45951.882812   \n",
                            "2021-09-13 02:00:00+01:00  46042.578125  46072.230469  45174.433594   \n",
                            "2021-09-13 03:00:00+01:00  45204.027344  45246.617188  44918.695312   \n",
                            "\n",
                            "                                  Close     Adj Close      Volume  \n",
                            "Time                                                               \n",
                            "2021-09-12 23:00:00+01:00  45678.808594  45678.808594           0  \n",
                            "2021-09-13 00:00:00+01:00  46063.269531  46063.269531   142313472  \n",
                            "2021-09-13 01:00:00+01:00  46058.765625  46058.765625           0  \n",
                            "2021-09-13 02:00:00+01:00  45178.304688  45178.304688  1229885440  \n",
                            "2021-09-13 03:00:00+01:00  44918.695312  44918.695312   469590016  "
                        ]
                    },
                    "execution_count": 4,
                    "metadata": {},
                    "output_type": "execute_result"
                }
            ],
            "source": [
                "# Retrieve hourly price data\n",
                "price_data_update = yf.download(tickers='BTC-USD', period='24h', interval='1h')\n",
                "# Rename df index\n",
                "price_data_update.index.name = 'Time'\n",
                "# Drop last row\n",
                "price_data_update = price_data_update[:-1]\n",
                "# Head data\n",
                "price_data_update.head(5)"
            ]
        },
        {
            "cell_type": "markdown",
            "metadata": {},
            "source": [
                "## Merge data"
            ]
        },
        {
            "cell_type": "code",
            "execution_count": 5,
            "metadata": {},
            "outputs": [],
            "source": [
                "# Concetenate original price data with updated data\n",
                "price_data_live = pd.concat([price_data, price_data_update])\n",
                "# Remove duplicate indices\n",
                "price_data_live = price_data_live[~price_data_live.index.duplicated(keep='first')]"
            ]
        },
        {
            "cell_type": "code",
            "execution_count": 6,
            "metadata": {},
            "outputs": [],
            "source": [
                "# Convert to .csv\n",
                "price_data_live.to_csv(price_raw_file, encoding='utf-8')"
            ]
        },
        {
            "cell_type": "markdown",
            "metadata": {},
            "source": [
                "## Plot data"
            ]
        },
        {
            "cell_type": "code",
            "execution_count": 300,
            "metadata": {},
            "outputs": [
                {
                    "data": {
                        "application/vnd.plotly.v1+json": {
                            "config": {
                                "plotlyServerURL": "https://plot.ly"
                            },
                            "data": [
                                {
                                    "close": [
                                        52633.53515625,
                                        52457.953125,
                                        52494.0625,
                                        52701.59375,
                                        52651.50390625,
                                        52536.37890625,
                                        52701.35546875,
                                        52427.4765625,
                                        52380.97265625,
                                        51276.19140625,
                                        50919.4296875,
                                        51144.9921875,
                                        51005.79296875,
                                        51022.42578125,
                                        50668.76953125,
                                        48863.56640625,
                                        46867.05859375,
                                        47560.1875,
                                        46768.640625,
                                        46909.265625,
                                        46720.17578125,
                                        46810.39453125,
                                        46486.8828125,
                                        46716.79296875,
                                        46920.6015625,
                                        47073,
                                        46950.71484375
                                    ],
                                    "high": [
                                        52700.94140625,
                                        52732.28515625,
                                        52630.51171875,
                                        52781.6328125,
                                        52853.765625,
                                        52695.1015625,
                                        52741.6953125,
                                        52712.08203125,
                                        52445.65625,
                                        52385.78125,
                                        51429.671875,
                                        51240.80078125,
                                        51207.88671875,
                                        51127.51953125,
                                        51085.44921875,
                                        50794.1484375,
                                        47892.64453125,
                                        47571.765625,
                                        47569.62890625,
                                        47292.25390625,
                                        47253.30078125,
                                        47142.58203125,
                                        46939.9765625,
                                        46733.52734375,
                                        46920.6015625,
                                        47123.6640625,
                                        47097.0234375
                                    ],
                                    "low": [
                                        52370.48046875,
                                        52386.76953125,
                                        52457.40234375,
                                        52500.48046875,
                                        52625.515625,
                                        52531.01953125,
                                        52422.890625,
                                        52426.83203125,
                                        52121.8046875,
                                        51254.09375,
                                        50689.40625,
                                        50859.3203125,
                                        50962.359375,
                                        50705.01171875,
                                        50668.76953125,
                                        48648.953125,
                                        43285.20703125,
                                        46544.28125,
                                        46737.4765625,
                                        46152.30078125,
                                        46720.17578125,
                                        46345.01953125,
                                        46191.8046875,
                                        46398.4453125,
                                        46552.48046875,
                                        46494.2578125,
                                        46950.71484375
                                    ],
                                    "name": "market price data",
                                    "open": [
                                        52585.9375,
                                        52662.671875,
                                        52502.4375,
                                        52500.48046875,
                                        52729.5234375,
                                        52657.46875,
                                        52542.23828125,
                                        52712.08203125,
                                        52385.53125,
                                        52373.203125,
                                        51244.171875,
                                        50875.01171875,
                                        51159.3125,
                                        50977.7890625,
                                        50998.48046875,
                                        50633.37109375,
                                        47889.7421875,
                                        46773.046875,
                                        47542.078125,
                                        46688.87109375,
                                        46977.8359375,
                                        46747.46875,
                                        46857.4375,
                                        46540.7109375,
                                        46818.80078125,
                                        46827.76171875,
                                        47067.37890625
                                    ],
                                    "type": "candlestick",
                                    "x": [
                                        "2021-09-07T00:00:00+01:00",
                                        "2021-09-07T01:00:00+01:00",
                                        "2021-09-07T02:00:00+01:00",
                                        "2021-09-07T03:00:00+01:00",
                                        "2021-09-07T04:00:00+01:00",
                                        "2021-09-07T05:00:00+01:00",
                                        "2021-09-07T06:00:00+01:00",
                                        "2021-09-07T07:00:00+01:00",
                                        "2021-09-07T08:00:00+01:00",
                                        "2021-09-07T09:00:00+01:00",
                                        "2021-09-07T10:00:00+01:00",
                                        "2021-09-07T11:00:00+01:00",
                                        "2021-09-07T12:00:00+01:00",
                                        "2021-09-07T13:00:00+01:00",
                                        "2021-09-07T14:00:00+01:00",
                                        "2021-09-07T15:00:00+01:00",
                                        "2021-09-07T16:00:00+01:00",
                                        "2021-09-07T17:00:00+01:00",
                                        "2021-09-07T18:00:00+01:00",
                                        "2021-09-07T19:00:00+01:00",
                                        "2021-09-07T20:00:00+01:00",
                                        "2021-09-07T21:00:00+01:00",
                                        "2021-09-07T22:00:00+01:00",
                                        "2021-09-07T23:00:00+01:00",
                                        "2021-09-08T00:00:00+01:00",
                                        "2021-09-08T01:00:00+01:00",
                                        "2021-09-08T02:00:00+01:00"
                                    ]
                                }
                            ],
                            "layout": {
                                "template": {
                                    "data": {
                                        "bar": [
                                            {
                                                "error_x": {
                                                    "color": "#2a3f5f"
                                                },
                                                "error_y": {
                                                    "color": "#2a3f5f"
                                                },
                                                "marker": {
                                                    "line": {
                                                        "color": "#E5ECF6",
                                                        "width": 0.5
                                                    },
                                                    "pattern": {
                                                        "fillmode": "overlay",
                                                        "size": 10,
                                                        "solidity": 0.2
                                                    }
                                                },
                                                "type": "bar"
                                            }
                                        ],
                                        "barpolar": [
                                            {
                                                "marker": {
                                                    "line": {
                                                        "color": "#E5ECF6",
                                                        "width": 0.5
                                                    },
                                                    "pattern": {
                                                        "fillmode": "overlay",
                                                        "size": 10,
                                                        "solidity": 0.2
                                                    }
                                                },
                                                "type": "barpolar"
                                            }
                                        ],
                                        "carpet": [
                                            {
                                                "aaxis": {
                                                    "endlinecolor": "#2a3f5f",
                                                    "gridcolor": "white",
                                                    "linecolor": "white",
                                                    "minorgridcolor": "white",
                                                    "startlinecolor": "#2a3f5f"
                                                },
                                                "baxis": {
                                                    "endlinecolor": "#2a3f5f",
                                                    "gridcolor": "white",
                                                    "linecolor": "white",
                                                    "minorgridcolor": "white",
                                                    "startlinecolor": "#2a3f5f"
                                                },
                                                "type": "carpet"
                                            }
                                        ],
                                        "choropleth": [
                                            {
                                                "colorbar": {
                                                    "outlinewidth": 0,
                                                    "ticks": ""
                                                },
                                                "type": "choropleth"
                                            }
                                        ],
                                        "contour": [
                                            {
                                                "colorbar": {
                                                    "outlinewidth": 0,
                                                    "ticks": ""
                                                },
                                                "colorscale": [
                                                    [
                                                        0,
                                                        "#0d0887"
                                                    ],
                                                    [
                                                        0.1111111111111111,
                                                        "#46039f"
                                                    ],
                                                    [
                                                        0.2222222222222222,
                                                        "#7201a8"
                                                    ],
                                                    [
                                                        0.3333333333333333,
                                                        "#9c179e"
                                                    ],
                                                    [
                                                        0.4444444444444444,
                                                        "#bd3786"
                                                    ],
                                                    [
                                                        0.5555555555555556,
                                                        "#d8576b"
                                                    ],
                                                    [
                                                        0.6666666666666666,
                                                        "#ed7953"
                                                    ],
                                                    [
                                                        0.7777777777777778,
                                                        "#fb9f3a"
                                                    ],
                                                    [
                                                        0.8888888888888888,
                                                        "#fdca26"
                                                    ],
                                                    [
                                                        1,
                                                        "#f0f921"
                                                    ]
                                                ],
                                                "type": "contour"
                                            }
                                        ],
                                        "contourcarpet": [
                                            {
                                                "colorbar": {
                                                    "outlinewidth": 0,
                                                    "ticks": ""
                                                },
                                                "type": "contourcarpet"
                                            }
                                        ],
                                        "heatmap": [
                                            {
                                                "colorbar": {
                                                    "outlinewidth": 0,
                                                    "ticks": ""
                                                },
                                                "colorscale": [
                                                    [
                                                        0,
                                                        "#0d0887"
                                                    ],
                                                    [
                                                        0.1111111111111111,
                                                        "#46039f"
                                                    ],
                                                    [
                                                        0.2222222222222222,
                                                        "#7201a8"
                                                    ],
                                                    [
                                                        0.3333333333333333,
                                                        "#9c179e"
                                                    ],
                                                    [
                                                        0.4444444444444444,
                                                        "#bd3786"
                                                    ],
                                                    [
                                                        0.5555555555555556,
                                                        "#d8576b"
                                                    ],
                                                    [
                                                        0.6666666666666666,
                                                        "#ed7953"
                                                    ],
                                                    [
                                                        0.7777777777777778,
                                                        "#fb9f3a"
                                                    ],
                                                    [
                                                        0.8888888888888888,
                                                        "#fdca26"
                                                    ],
                                                    [
                                                        1,
                                                        "#f0f921"
                                                    ]
                                                ],
                                                "type": "heatmap"
                                            }
                                        ],
                                        "heatmapgl": [
                                            {
                                                "colorbar": {
                                                    "outlinewidth": 0,
                                                    "ticks": ""
                                                },
                                                "colorscale": [
                                                    [
                                                        0,
                                                        "#0d0887"
                                                    ],
                                                    [
                                                        0.1111111111111111,
                                                        "#46039f"
                                                    ],
                                                    [
                                                        0.2222222222222222,
                                                        "#7201a8"
                                                    ],
                                                    [
                                                        0.3333333333333333,
                                                        "#9c179e"
                                                    ],
                                                    [
                                                        0.4444444444444444,
                                                        "#bd3786"
                                                    ],
                                                    [
                                                        0.5555555555555556,
                                                        "#d8576b"
                                                    ],
                                                    [
                                                        0.6666666666666666,
                                                        "#ed7953"
                                                    ],
                                                    [
                                                        0.7777777777777778,
                                                        "#fb9f3a"
                                                    ],
                                                    [
                                                        0.8888888888888888,
                                                        "#fdca26"
                                                    ],
                                                    [
                                                        1,
                                                        "#f0f921"
                                                    ]
                                                ],
                                                "type": "heatmapgl"
                                            }
                                        ],
                                        "histogram": [
                                            {
                                                "marker": {
                                                    "pattern": {
                                                        "fillmode": "overlay",
                                                        "size": 10,
                                                        "solidity": 0.2
                                                    }
                                                },
                                                "type": "histogram"
                                            }
                                        ],
                                        "histogram2d": [
                                            {
                                                "colorbar": {
                                                    "outlinewidth": 0,
                                                    "ticks": ""
                                                },
                                                "colorscale": [
                                                    [
                                                        0,
                                                        "#0d0887"
                                                    ],
                                                    [
                                                        0.1111111111111111,
                                                        "#46039f"
                                                    ],
                                                    [
                                                        0.2222222222222222,
                                                        "#7201a8"
                                                    ],
                                                    [
                                                        0.3333333333333333,
                                                        "#9c179e"
                                                    ],
                                                    [
                                                        0.4444444444444444,
                                                        "#bd3786"
                                                    ],
                                                    [
                                                        0.5555555555555556,
                                                        "#d8576b"
                                                    ],
                                                    [
                                                        0.6666666666666666,
                                                        "#ed7953"
                                                    ],
                                                    [
                                                        0.7777777777777778,
                                                        "#fb9f3a"
                                                    ],
                                                    [
                                                        0.8888888888888888,
                                                        "#fdca26"
                                                    ],
                                                    [
                                                        1,
                                                        "#f0f921"
                                                    ]
                                                ],
                                                "type": "histogram2d"
                                            }
                                        ],
                                        "histogram2dcontour": [
                                            {
                                                "colorbar": {
                                                    "outlinewidth": 0,
                                                    "ticks": ""
                                                },
                                                "colorscale": [
                                                    [
                                                        0,
                                                        "#0d0887"
                                                    ],
                                                    [
                                                        0.1111111111111111,
                                                        "#46039f"
                                                    ],
                                                    [
                                                        0.2222222222222222,
                                                        "#7201a8"
                                                    ],
                                                    [
                                                        0.3333333333333333,
                                                        "#9c179e"
                                                    ],
                                                    [
                                                        0.4444444444444444,
                                                        "#bd3786"
                                                    ],
                                                    [
                                                        0.5555555555555556,
                                                        "#d8576b"
                                                    ],
                                                    [
                                                        0.6666666666666666,
                                                        "#ed7953"
                                                    ],
                                                    [
                                                        0.7777777777777778,
                                                        "#fb9f3a"
                                                    ],
                                                    [
                                                        0.8888888888888888,
                                                        "#fdca26"
                                                    ],
                                                    [
                                                        1,
                                                        "#f0f921"
                                                    ]
                                                ],
                                                "type": "histogram2dcontour"
                                            }
                                        ],
                                        "mesh3d": [
                                            {
                                                "colorbar": {
                                                    "outlinewidth": 0,
                                                    "ticks": ""
                                                },
                                                "type": "mesh3d"
                                            }
                                        ],
                                        "parcoords": [
                                            {
                                                "line": {
                                                    "colorbar": {
                                                        "outlinewidth": 0,
                                                        "ticks": ""
                                                    }
                                                },
                                                "type": "parcoords"
                                            }
                                        ],
                                        "pie": [
                                            {
                                                "automargin": true,
                                                "type": "pie"
                                            }
                                        ],
                                        "scatter": [
                                            {
                                                "marker": {
                                                    "colorbar": {
                                                        "outlinewidth": 0,
                                                        "ticks": ""
                                                    }
                                                },
                                                "type": "scatter"
                                            }
                                        ],
                                        "scatter3d": [
                                            {
                                                "line": {
                                                    "colorbar": {
                                                        "outlinewidth": 0,
                                                        "ticks": ""
                                                    }
                                                },
                                                "marker": {
                                                    "colorbar": {
                                                        "outlinewidth": 0,
                                                        "ticks": ""
                                                    }
                                                },
                                                "type": "scatter3d"
                                            }
                                        ],
                                        "scattercarpet": [
                                            {
                                                "marker": {
                                                    "colorbar": {
                                                        "outlinewidth": 0,
                                                        "ticks": ""
                                                    }
                                                },
                                                "type": "scattercarpet"
                                            }
                                        ],
                                        "scattergeo": [
                                            {
                                                "marker": {
                                                    "colorbar": {
                                                        "outlinewidth": 0,
                                                        "ticks": ""
                                                    }
                                                },
                                                "type": "scattergeo"
                                            }
                                        ],
                                        "scattergl": [
                                            {
                                                "marker": {
                                                    "colorbar": {
                                                        "outlinewidth": 0,
                                                        "ticks": ""
                                                    }
                                                },
                                                "type": "scattergl"
                                            }
                                        ],
                                        "scattermapbox": [
                                            {
                                                "marker": {
                                                    "colorbar": {
                                                        "outlinewidth": 0,
                                                        "ticks": ""
                                                    }
                                                },
                                                "type": "scattermapbox"
                                            }
                                        ],
                                        "scatterpolar": [
                                            {
                                                "marker": {
                                                    "colorbar": {
                                                        "outlinewidth": 0,
                                                        "ticks": ""
                                                    }
                                                },
                                                "type": "scatterpolar"
                                            }
                                        ],
                                        "scatterpolargl": [
                                            {
                                                "marker": {
                                                    "colorbar": {
                                                        "outlinewidth": 0,
                                                        "ticks": ""
                                                    }
                                                },
                                                "type": "scatterpolargl"
                                            }
                                        ],
                                        "scatterternary": [
                                            {
                                                "marker": {
                                                    "colorbar": {
                                                        "outlinewidth": 0,
                                                        "ticks": ""
                                                    }
                                                },
                                                "type": "scatterternary"
                                            }
                                        ],
                                        "surface": [
                                            {
                                                "colorbar": {
                                                    "outlinewidth": 0,
                                                    "ticks": ""
                                                },
                                                "colorscale": [
                                                    [
                                                        0,
                                                        "#0d0887"
                                                    ],
                                                    [
                                                        0.1111111111111111,
                                                        "#46039f"
                                                    ],
                                                    [
                                                        0.2222222222222222,
                                                        "#7201a8"
                                                    ],
                                                    [
                                                        0.3333333333333333,
                                                        "#9c179e"
                                                    ],
                                                    [
                                                        0.4444444444444444,
                                                        "#bd3786"
                                                    ],
                                                    [
                                                        0.5555555555555556,
                                                        "#d8576b"
                                                    ],
                                                    [
                                                        0.6666666666666666,
                                                        "#ed7953"
                                                    ],
                                                    [
                                                        0.7777777777777778,
                                                        "#fb9f3a"
                                                    ],
                                                    [
                                                        0.8888888888888888,
                                                        "#fdca26"
                                                    ],
                                                    [
                                                        1,
                                                        "#f0f921"
                                                    ]
                                                ],
                                                "type": "surface"
                                            }
                                        ],
                                        "table": [
                                            {
                                                "cells": {
                                                    "fill": {
                                                        "color": "#EBF0F8"
                                                    },
                                                    "line": {
                                                        "color": "white"
                                                    }
                                                },
                                                "header": {
                                                    "fill": {
                                                        "color": "#C8D4E3"
                                                    },
                                                    "line": {
                                                        "color": "white"
                                                    }
                                                },
                                                "type": "table"
                                            }
                                        ]
                                    },
                                    "layout": {
                                        "annotationdefaults": {
                                            "arrowcolor": "#2a3f5f",
                                            "arrowhead": 0,
                                            "arrowwidth": 1
                                        },
                                        "autotypenumbers": "strict",
                                        "coloraxis": {
                                            "colorbar": {
                                                "outlinewidth": 0,
                                                "ticks": ""
                                            }
                                        },
                                        "colorscale": {
                                            "diverging": [
                                                [
                                                    0,
                                                    "#8e0152"
                                                ],
                                                [
                                                    0.1,
                                                    "#c51b7d"
                                                ],
                                                [
                                                    0.2,
                                                    "#de77ae"
                                                ],
                                                [
                                                    0.3,
                                                    "#f1b6da"
                                                ],
                                                [
                                                    0.4,
                                                    "#fde0ef"
                                                ],
                                                [
                                                    0.5,
                                                    "#f7f7f7"
                                                ],
                                                [
                                                    0.6,
                                                    "#e6f5d0"
                                                ],
                                                [
                                                    0.7,
                                                    "#b8e186"
                                                ],
                                                [
                                                    0.8,
                                                    "#7fbc41"
                                                ],
                                                [
                                                    0.9,
                                                    "#4d9221"
                                                ],
                                                [
                                                    1,
                                                    "#276419"
                                                ]
                                            ],
                                            "sequential": [
                                                [
                                                    0,
                                                    "#0d0887"
                                                ],
                                                [
                                                    0.1111111111111111,
                                                    "#46039f"
                                                ],
                                                [
                                                    0.2222222222222222,
                                                    "#7201a8"
                                                ],
                                                [
                                                    0.3333333333333333,
                                                    "#9c179e"
                                                ],
                                                [
                                                    0.4444444444444444,
                                                    "#bd3786"
                                                ],
                                                [
                                                    0.5555555555555556,
                                                    "#d8576b"
                                                ],
                                                [
                                                    0.6666666666666666,
                                                    "#ed7953"
                                                ],
                                                [
                                                    0.7777777777777778,
                                                    "#fb9f3a"
                                                ],
                                                [
                                                    0.8888888888888888,
                                                    "#fdca26"
                                                ],
                                                [
                                                    1,
                                                    "#f0f921"
                                                ]
                                            ],
                                            "sequentialminus": [
                                                [
                                                    0,
                                                    "#0d0887"
                                                ],
                                                [
                                                    0.1111111111111111,
                                                    "#46039f"
                                                ],
                                                [
                                                    0.2222222222222222,
                                                    "#7201a8"
                                                ],
                                                [
                                                    0.3333333333333333,
                                                    "#9c179e"
                                                ],
                                                [
                                                    0.4444444444444444,
                                                    "#bd3786"
                                                ],
                                                [
                                                    0.5555555555555556,
                                                    "#d8576b"
                                                ],
                                                [
                                                    0.6666666666666666,
                                                    "#ed7953"
                                                ],
                                                [
                                                    0.7777777777777778,
                                                    "#fb9f3a"
                                                ],
                                                [
                                                    0.8888888888888888,
                                                    "#fdca26"
                                                ],
                                                [
                                                    1,
                                                    "#f0f921"
                                                ]
                                            ]
                                        },
                                        "colorway": [
                                            "#636efa",
                                            "#EF553B",
                                            "#00cc96",
                                            "#ab63fa",
                                            "#FFA15A",
                                            "#19d3f3",
                                            "#FF6692",
                                            "#B6E880",
                                            "#FF97FF",
                                            "#FECB52"
                                        ],
                                        "font": {
                                            "color": "#2a3f5f"
                                        },
                                        "geo": {
                                            "bgcolor": "white",
                                            "lakecolor": "white",
                                            "landcolor": "#E5ECF6",
                                            "showlakes": true,
                                            "showland": true,
                                            "subunitcolor": "white"
                                        },
                                        "hoverlabel": {
                                            "align": "left"
                                        },
                                        "hovermode": "closest",
                                        "mapbox": {
                                            "style": "light"
                                        },
                                        "paper_bgcolor": "white",
                                        "plot_bgcolor": "#E5ECF6",
                                        "polar": {
                                            "angularaxis": {
                                                "gridcolor": "white",
                                                "linecolor": "white",
                                                "ticks": ""
                                            },
                                            "bgcolor": "#E5ECF6",
                                            "radialaxis": {
                                                "gridcolor": "white",
                                                "linecolor": "white",
                                                "ticks": ""
                                            }
                                        },
                                        "scene": {
                                            "xaxis": {
                                                "backgroundcolor": "#E5ECF6",
                                                "gridcolor": "white",
                                                "gridwidth": 2,
                                                "linecolor": "white",
                                                "showbackground": true,
                                                "ticks": "",
                                                "zerolinecolor": "white"
                                            },
                                            "yaxis": {
                                                "backgroundcolor": "#E5ECF6",
                                                "gridcolor": "white",
                                                "gridwidth": 2,
                                                "linecolor": "white",
                                                "showbackground": true,
                                                "ticks": "",
                                                "zerolinecolor": "white"
                                            },
                                            "zaxis": {
                                                "backgroundcolor": "#E5ECF6",
                                                "gridcolor": "white",
                                                "gridwidth": 2,
                                                "linecolor": "white",
                                                "showbackground": true,
                                                "ticks": "",
                                                "zerolinecolor": "white"
                                            }
                                        },
                                        "shapedefaults": {
                                            "line": {
                                                "color": "#2a3f5f"
                                            }
                                        },
                                        "ternary": {
                                            "aaxis": {
                                                "gridcolor": "white",
                                                "linecolor": "white",
                                                "ticks": ""
                                            },
                                            "baxis": {
                                                "gridcolor": "white",
                                                "linecolor": "white",
                                                "ticks": ""
                                            },
                                            "bgcolor": "#E5ECF6",
                                            "caxis": {
                                                "gridcolor": "white",
                                                "linecolor": "white",
                                                "ticks": ""
                                            }
                                        },
                                        "title": {
                                            "x": 0.05
                                        },
                                        "xaxis": {
                                            "automargin": true,
                                            "gridcolor": "white",
                                            "linecolor": "white",
                                            "ticks": "",
                                            "title": {
                                                "standoff": 15
                                            },
                                            "zerolinecolor": "white",
                                            "zerolinewidth": 2
                                        },
                                        "yaxis": {
                                            "automargin": true,
                                            "gridcolor": "white",
                                            "linecolor": "white",
                                            "ticks": "",
                                            "title": {
                                                "standoff": 15
                                            },
                                            "zerolinecolor": "white",
                                            "zerolinewidth": 2
                                        }
                                    }
                                },
                                "title": {
                                    "text": "Bitcoin live share price evolution"
                                },
                                "xaxis": {
                                    "rangeselector": {
                                        "buttons": [
                                            {
                                                "count": 15,
                                                "label": "15m",
                                                "step": "minute",
                                                "stepmode": "backward"
                                            },
                                            {
                                                "count": 45,
                                                "label": "45m",
                                                "step": "minute",
                                                "stepmode": "backward"
                                            },
                                            {
                                                "count": 1,
                                                "label": "HTD",
                                                "step": "hour",
                                                "stepmode": "todate"
                                            },
                                            {
                                                "count": 6,
                                                "label": "6h",
                                                "step": "hour",
                                                "stepmode": "backward"
                                            },
                                            {
                                                "step": "all"
                                            }
                                        ]
                                    },
                                    "rangeslider": {
                                        "visible": true
                                    }
                                },
                                "yaxis": {
                                    "title": {
                                        "text": "Bitcoin Price (kUS Dollars)"
                                    }
                                }
                            }
                        }
                    },
                    "metadata": {},
                    "output_type": "display_data"
                }
            ],
            "source": [
                "#declare figure\n",
                "fig = plot.Figure()\n",
                "\n",
                "#Candlestick\n",
                "fig.add_trace(plot.Candlestick(x=price_data_live.index,\n",
                "                open=price_data_live['Open'],\n",
                "                high=price_data_live['High'],\n",
                "                low=price_data_live['Low'],\n",
                "                close=price_data_live['Close'], name = 'market price data'))\n",
                "\n",
                "# Add titles\n",
                "fig.update_layout(\n",
                "    title='Bitcoin live share price evolution',\n",
                "    yaxis_title='Bitcoin Price (kUS Dollars)')\n",
                "\n",
                "# X-Axes\n",
                "fig.update_xaxes(\n",
                "    rangeslider_visible=True,\n",
                "    rangeselector=dict(\n",
                "        buttons=list([\n",
                "            dict(count=15, label=\"15m\", step=\"minute\", stepmode=\"backward\"),\n",
                "            dict(count=45, label=\"45m\", step=\"minute\", stepmode=\"backward\"),\n",
                "            dict(count=1, label=\"HTD\", step=\"hour\", stepmode=\"todate\"),\n",
                "            dict(count=6, label=\"6h\", step=\"hour\", stepmode=\"backward\"),\n",
                "            dict(step=\"all\")\n",
                "        ])\n",
                "    )\n",
                ")\n",
                "\n",
                "#Show\n",
                "fig.show()"
            ]
        },
        {
            "cell_type": "code",
            "execution_count": 7,
            "metadata": {},
            "outputs": [
                {
                    "name": "stdout",
                    "output_type": "stream",
                    "text": [
                        "[NbConvertApp] Converting notebook 04_BitcoinPriceDataCollection.ipynb to script\n",
                        "[NbConvertApp] Writing 3026 bytes to 04_BitcoinPriceDataCollection.py\n"
                    ]
                }
            ],
            "source": [
                "!jupyter nbconvert --to script --no-prompt 04_BitcoinPriceDataCollection.ipynb"
            ]
        }
    ],
    "metadata": {
        "interpreter": {
            "hash": "dca0ade3e726a953b501b15e8e990130d2b7799f14cfd9f4271676035ebe5511"
        },
        "kernelspec": {
            "display_name": "Python 3.8.3 64-bit ('base': conda)",
            "name": "python3"
        },
        "language_info": {
            "codemirror_mode": {
                "name": "ipython",
                "version": 3
            },
            "file_extension": ".py",
            "mimetype": "text/x-python",
            "name": "python",
            "nbconvert_exporter": "python",
            "pygments_lexer": "ipython3",
            "version": "3.8.3"
        },
        "orig_nbformat": 4
    },
    "nbformat": 4,
    "nbformat_minor": 2
}
