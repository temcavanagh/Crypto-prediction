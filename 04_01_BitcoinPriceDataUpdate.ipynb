{
    "cells": [
        {
            "cell_type": "markdown",
            "metadata": {},
            "source": [
                "# Bitcoin price collection"
            ]
        },
        {
            "cell_type": "code",
            "execution_count": 5,
            "metadata": {},
            "outputs": [],
            "source": [
                "import numpy as np\n",
                "import pandas as pd\n",
                "import yfinance as yf \n",
                "import plotly.graph_objs as plot\n",
                "import datetime\n",
                "import time\n",
                "import os\n",
                "\n",
                "PRICE_FOLDER    = \"data/price/\"\n",
                "TWITTER_FOLDER  = \"data/twitter/\"\n",
                "tweets_raw_file = './data/twitter/bitcoin_tweets_raw.csv'\n",
                "tweets_clean_file = './data/twitter/bitcoin_tweets_clean.csv'\n",
                "price_raw_file = './data/price/bitcoin_price_raw.csv'\n",
                "price_clean_file = './data/price/bitcoin_price_clean.csv'"
            ]
        },
        {
            "cell_type": "markdown",
            "metadata": {},
            "source": [
                "Retrieve Bitcoin hourly price from Yahoo Finance\n",
                "\n",
                "- Base price data is the first retrieval to a dataframe\n",
                "- Updated data retrieves new hourly data to the same dataframe\n",
                "- Data is exported to .csv after each updated retrieval"
            ]
        },
        {
            "cell_type": "markdown",
            "metadata": {},
            "source": [
                "## Read csv file of stored price"
            ]
        },
        {
            "cell_type": "code",
            "execution_count": 299,
            "metadata": {},
            "outputs": [
                {
                    "data": {
                        "text/html": [
                            "<div>\n",
                            "<style scoped>\n",
                            "    .dataframe tbody tr th:only-of-type {\n",
                            "        vertical-align: middle;\n",
                            "    }\n",
                            "\n",
                            "    .dataframe tbody tr th {\n",
                            "        vertical-align: top;\n",
                            "    }\n",
                            "\n",
                            "    .dataframe thead th {\n",
                            "        text-align: right;\n",
                            "    }\n",
                            "</style>\n",
                            "<table border=\"1\" class=\"dataframe\">\n",
                            "  <thead>\n",
                            "    <tr style=\"text-align: right;\">\n",
                            "      <th></th>\n",
                            "      <th>Open</th>\n",
                            "      <th>High</th>\n",
                            "      <th>Low</th>\n",
                            "      <th>Close</th>\n",
                            "      <th>Adj Close</th>\n",
                            "      <th>Volume</th>\n",
                            "    </tr>\n",
                            "    <tr>\n",
                            "      <th>Time</th>\n",
                            "      <th></th>\n",
                            "      <th></th>\n",
                            "      <th></th>\n",
                            "      <th></th>\n",
                            "      <th></th>\n",
                            "      <th></th>\n",
                            "    </tr>\n",
                            "  </thead>\n",
                            "  <tbody>\n",
                            "    <tr>\n",
                            "      <th>2021-09-12 23:00:00</th>\n",
                            "      <td>45300.644531</td>\n",
                            "      <td>45699.824219</td>\n",
                            "      <td>45300.644531</td>\n",
                            "      <td>45678.808594</td>\n",
                            "      <td>45678.808594</td>\n",
                            "      <td>0</td>\n",
                            "    </tr>\n",
                            "    <tr>\n",
                            "      <th>2021-09-13 00:00:00</th>\n",
                            "      <td>45764.859375</td>\n",
                            "      <td>46364.878906</td>\n",
                            "      <td>45764.859375</td>\n",
                            "      <td>46063.269531</td>\n",
                            "      <td>46063.269531</td>\n",
                            "      <td>142313472</td>\n",
                            "    </tr>\n",
                            "    <tr>\n",
                            "      <th>2021-09-13 01:00:00</th>\n",
                            "      <td>46057.214844</td>\n",
                            "      <td>46237.136719</td>\n",
                            "      <td>45951.882812</td>\n",
                            "      <td>46058.765625</td>\n",
                            "      <td>46058.765625</td>\n",
                            "      <td>0</td>\n",
                            "    </tr>\n",
                            "    <tr>\n",
                            "      <th>2021-09-13 02:00:00</th>\n",
                            "      <td>46042.578125</td>\n",
                            "      <td>46072.230469</td>\n",
                            "      <td>45174.433594</td>\n",
                            "      <td>45178.304688</td>\n",
                            "      <td>45178.304688</td>\n",
                            "      <td>1229885440</td>\n",
                            "    </tr>\n",
                            "    <tr>\n",
                            "      <th>2021-09-13 03:00:00</th>\n",
                            "      <td>45204.027344</td>\n",
                            "      <td>45246.617188</td>\n",
                            "      <td>44918.695312</td>\n",
                            "      <td>44918.695312</td>\n",
                            "      <td>44918.695312</td>\n",
                            "      <td>469590016</td>\n",
                            "    </tr>\n",
                            "  </tbody>\n",
                            "</table>\n",
                            "</div>"
                        ],
                        "text/plain": [
                            "                             Open          High           Low         Close  \\\n",
                            "Time                                                                          \n",
                            "2021-09-12 23:00:00  45300.644531  45699.824219  45300.644531  45678.808594   \n",
                            "2021-09-13 00:00:00  45764.859375  46364.878906  45764.859375  46063.269531   \n",
                            "2021-09-13 01:00:00  46057.214844  46237.136719  45951.882812  46058.765625   \n",
                            "2021-09-13 02:00:00  46042.578125  46072.230469  45174.433594  45178.304688   \n",
                            "2021-09-13 03:00:00  45204.027344  45246.617188  44918.695312  44918.695312   \n",
                            "\n",
                            "                        Adj Close      Volume  \n",
                            "Time                                           \n",
                            "2021-09-12 23:00:00  45678.808594           0  \n",
                            "2021-09-13 00:00:00  46063.269531   142313472  \n",
                            "2021-09-13 01:00:00  46058.765625           0  \n",
                            "2021-09-13 02:00:00  45178.304688  1229885440  \n",
                            "2021-09-13 03:00:00  44918.695312   469590016  "
                        ]
                    },
                    "execution_count": 299,
                    "metadata": {},
                    "output_type": "execute_result"
                }
            ],
            "source": [
                "# Read csv\n",
                "df = pd.read_csv(price_raw_file, low_memory=False)\n",
                "# Edit datetimeindex\n",
                "df['Time'] = df['Time'].astype(str).str[:-6]\n",
                "# Set datetime\n",
                "df['Time'] = pd.to_datetime(df['Time'])\n",
                "# Set index\n",
                "df = df.set_index('Time')\n",
                "# View head\n",
                "df.head(5)"
            ]
        },
        {
            "cell_type": "markdown",
            "metadata": {},
            "source": [
                "## Retrieve updated data"
            ]
        },
        {
            "cell_type": "code",
            "execution_count": 351,
            "metadata": {},
            "outputs": [
                {
                    "name": "stdout",
                    "output_type": "stream",
                    "text": [
                        "[*********************100%***********************]  1 of 1 completed\n"
                    ]
                },
                {
                    "data": {
                        "text/html": [
                            "<div>\n",
                            "<style scoped>\n",
                            "    .dataframe tbody tr th:only-of-type {\n",
                            "        vertical-align: middle;\n",
                            "    }\n",
                            "\n",
                            "    .dataframe tbody tr th {\n",
                            "        vertical-align: top;\n",
                            "    }\n",
                            "\n",
                            "    .dataframe thead th {\n",
                            "        text-align: right;\n",
                            "    }\n",
                            "</style>\n",
                            "<table border=\"1\" class=\"dataframe\">\n",
                            "  <thead>\n",
                            "    <tr style=\"text-align: right;\">\n",
                            "      <th></th>\n",
                            "      <th>Open</th>\n",
                            "      <th>High</th>\n",
                            "      <th>Low</th>\n",
                            "      <th>Close</th>\n",
                            "      <th>Adj Close</th>\n",
                            "      <th>Volume</th>\n",
                            "    </tr>\n",
                            "    <tr>\n",
                            "      <th>Time</th>\n",
                            "      <th></th>\n",
                            "      <th></th>\n",
                            "      <th></th>\n",
                            "      <th></th>\n",
                            "      <th></th>\n",
                            "      <th></th>\n",
                            "    </tr>\n",
                            "  </thead>\n",
                            "  <tbody>\n",
                            "    <tr>\n",
                            "      <th>2021-09-14 01:00:00</th>\n",
                            "      <td>44960.050781</td>\n",
                            "      <td>45277.441406</td>\n",
                            "      <td>44752.332031</td>\n",
                            "      <td>45201.953125</td>\n",
                            "      <td>45201.953125</td>\n",
                            "      <td>0</td>\n",
                            "    </tr>\n",
                            "    <tr>\n",
                            "      <th>2021-09-14 02:00:00</th>\n",
                            "      <td>45183.253906</td>\n",
                            "      <td>45353.042969</td>\n",
                            "      <td>45123.718750</td>\n",
                            "      <td>45156.507812</td>\n",
                            "      <td>45156.507812</td>\n",
                            "      <td>310390784</td>\n",
                            "    </tr>\n",
                            "    <tr>\n",
                            "      <th>2021-09-14 03:00:00</th>\n",
                            "      <td>45160.417969</td>\n",
                            "      <td>45181.898438</td>\n",
                            "      <td>45010.687500</td>\n",
                            "      <td>45107.910156</td>\n",
                            "      <td>45107.910156</td>\n",
                            "      <td>0</td>\n",
                            "    </tr>\n",
                            "    <tr>\n",
                            "      <th>2021-09-14 04:00:00</th>\n",
                            "      <td>45085.078125</td>\n",
                            "      <td>45326.109375</td>\n",
                            "      <td>45085.078125</td>\n",
                            "      <td>45228.804688</td>\n",
                            "      <td>45228.804688</td>\n",
                            "      <td>0</td>\n",
                            "    </tr>\n",
                            "    <tr>\n",
                            "      <th>2021-09-14 05:00:00</th>\n",
                            "      <td>45242.101562</td>\n",
                            "      <td>45352.996094</td>\n",
                            "      <td>45124.781250</td>\n",
                            "      <td>45125.746094</td>\n",
                            "      <td>45125.746094</td>\n",
                            "      <td>736956416</td>\n",
                            "    </tr>\n",
                            "  </tbody>\n",
                            "</table>\n",
                            "</div>"
                        ],
                        "text/plain": [
                            "                             Open          High           Low         Close  \\\n",
                            "Time                                                                          \n",
                            "2021-09-14 01:00:00  44960.050781  45277.441406  44752.332031  45201.953125   \n",
                            "2021-09-14 02:00:00  45183.253906  45353.042969  45123.718750  45156.507812   \n",
                            "2021-09-14 03:00:00  45160.417969  45181.898438  45010.687500  45107.910156   \n",
                            "2021-09-14 04:00:00  45085.078125  45326.109375  45085.078125  45228.804688   \n",
                            "2021-09-14 05:00:00  45242.101562  45352.996094  45124.781250  45125.746094   \n",
                            "\n",
                            "                        Adj Close     Volume  \n",
                            "Time                                          \n",
                            "2021-09-14 01:00:00  45201.953125          0  \n",
                            "2021-09-14 02:00:00  45156.507812  310390784  \n",
                            "2021-09-14 03:00:00  45107.910156          0  \n",
                            "2021-09-14 04:00:00  45228.804688          0  \n",
                            "2021-09-14 05:00:00  45125.746094  736956416  "
                        ]
                    },
                    "execution_count": 351,
                    "metadata": {},
                    "output_type": "execute_result"
                }
            ],
            "source": [
                "# Retrieve hourly price data\n",
                "price_data_update = yf.download(tickers='BTC-USD', period='24h', interval='1h')\n",
                "# Rename df index\n",
                "price_data_update.index.name = 'Time'\n",
                "# Edit datetimeindex\n",
                "price_data_update.index = price_data_update.index.astype(str).str[:-6]\n",
                "# Set index type as datetime\n",
                "price_data_update.index = pd.to_datetime(price_data_update.index)\n",
                "# Drop last row\n",
                "price_data_update = price_data_update[:-1]\n",
                "# Head data\n",
                "price_data_update.head(5)\n"
            ]
        },
        {
            "cell_type": "markdown",
            "metadata": {},
            "source": [
                "## Merge data"
            ]
        },
        {
            "cell_type": "code",
            "execution_count": 361,
            "metadata": {},
            "outputs": [],
            "source": [
                "# Concetenate original price data with updated data\n",
                "df_updated = pd.concat([df, price_data_update])\n",
                "# Remove duplicate indices\n",
                "df_updated = df_updated[~df_updated.index.duplicated(keep='first')]"
            ]
        },
        {
            "cell_type": "code",
            "execution_count": 403,
            "metadata": {},
            "outputs": [
                {
                    "name": "stdout",
                    "output_type": "stream",
                    "text": [
                        "50 hours of Bitcoin price data\n"
                    ]
                }
            ],
            "source": [
                "print(len(df_updated),'hours of Bitcoin price data')"
            ]
        },
        {
            "cell_type": "markdown",
            "metadata": {},
            "source": [
                "## Convert to csv"
            ]
        },
        {
            "cell_type": "code",
            "execution_count": 214,
            "metadata": {},
            "outputs": [],
            "source": [
                "# Convert to .csv - Raw file\n",
                "df_updated.to_csv(price_clean_file, encoding='utf-8')\n",
                "# Convert to .csv - Clean file\n",
                "df_updated.to_csv(price_raw_file, encoding='utf-8')"
            ]
        },
        {
            "cell_type": "markdown",
            "metadata": {},
            "source": [
                "## Export py script"
            ]
        },
        {
            "cell_type": "code",
            "execution_count": 368,
            "metadata": {},
            "outputs": [
                {
                    "name": "stdout",
                    "output_type": "stream",
                    "text": [
                        "[NbConvertApp] Converting notebook 04_01_BitcoinPriceDataUpdate.ipynb to script\n",
                        "[NbConvertApp] Writing 3389 bytes to 04_01_BitcoinPriceDataUpdate.py\n"
                    ]
                }
            ],
            "source": [
                "!jupyter nbconvert --to script --no-prompt 04_01_BitcoinPriceDataUpdate.ipynb"
            ]
        }
    ],
    "metadata": {
        "interpreter": {
            "hash": "dca0ade3e726a953b501b15e8e990130d2b7799f14cfd9f4271676035ebe5511"
        },
        "kernelspec": {
            "display_name": "Python 3.8.3 64-bit ('base': conda)",
            "name": "python3"
        },
        "language_info": {
            "codemirror_mode": {
                "name": "ipython",
                "version": 3
            },
            "file_extension": ".py",
            "mimetype": "text/x-python",
            "name": "python",
            "nbconvert_exporter": "python",
            "pygments_lexer": "ipython3",
            "version": "3.8.3"
        },
        "orig_nbformat": 4
    },
    "nbformat": 4,
    "nbformat_minor": 2
}
